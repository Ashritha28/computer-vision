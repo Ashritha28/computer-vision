{
 "cells": [
  {
   "cell_type": "code",
   "execution_count": 2,
   "metadata": {},
   "outputs": [],
   "source": [
    "import cv2\n",
    "import numpy as np\n",
    "import scipy.stats as st\n",
    "from matplotlib import pyplot as plt\n",
    "%matplotlib inline"
   ]
  },
  {
   "cell_type": "code",
   "execution_count": 3,
   "metadata": {},
   "outputs": [],
   "source": [
    "path = \"CVFinalPics/IMG_20180130_174159662.jpg\""
   ]
  },
  {
   "cell_type": "code",
   "execution_count": 4,
   "metadata": {},
   "outputs": [],
   "source": [
    "#Read a grayscale image\n",
    "def read_image(path):\n",
    "    image = cv2.imread(path,0)\n",
    "    return image"
   ]
  },
  {
   "cell_type": "code",
   "execution_count": null,
   "metadata": {},
   "outputs": [],
   "source": [
    "#Resize the input image\n",
    "def resize_image(image,x,y):\n",
    "    resized_image = cv2.resize(image,(x,y))\n",
    "    return resized_image"
   ]
  },
  {
   "cell_type": "code",
   "execution_count": 5,
   "metadata": {},
   "outputs": [],
   "source": [
    "#Displays an image\n",
    "def display_image(image):\n",
    "    plt.imshow(image)\n",
    "    plt.show()"
   ]
  },
  {
   "cell_type": "code",
   "execution_count": null,
   "metadata": {},
   "outputs": [],
   "source": [
    "#Gaussian blurring for noise removal\n",
    "def gaussian_smoothing(image,filter_x,filter_y):\n",
    "    blur_image = gaussian_blur(image,filter_x,filter_y)\n",
    "    return blur_image"
   ]
  },
  {
   "cell_type": "code",
   "execution_count": 6,
   "metadata": {},
   "outputs": [],
   "source": [
    "#Returns a gaussian filter with the specified kernel size and sigma\n",
    "def gaussian_kernel(kernel_size,sigma):\n",
    "    interval = (2*sigma+1.)/(kernel_size)\n",
    "    x = np.linspace(-sigma-interval/2., sigma+interval/2., kernel_size+1)\n",
    "    kern1d = np.diff(st.norm.cdf(x))\n",
    "    kernel_raw = np.sqrt(np.outer(kern1d, kern1d))\n",
    "    kernel = kernel_raw/kernel_raw.sum()\n",
    "    return kernel"
   ]
  },
  {
   "cell_type": "code",
   "execution_count": 7,
   "metadata": {},
   "outputs": [],
   "source": [
    "def harris_corner_detector(image,kernel,sobel_filter_size,hc_constant,threshold):\n",
    "    partial_der_x = cv2.Sobel(image,cv2.CV_64F,1,0,sobel_filter_size)\n",
    "    partial_der_y = cv2.Sobel(image,cv2.CV_64F,0,1,sobel_filter_size)\n",
    "    prod_der_xx = np.multiply(partial_der_x,partial_der_x)\n",
    "    prod_der_yy = np.multiply(partial_der_y,partial_der_y)\n",
    "    prod_der_xy = np.multiply(partial_der_x,partial_der_y)\n",
    "    \n",
    "    sum_xx = cv2.filter2D(prod_der_xx, -1, kernel)\n",
    "    sum_yy = cv2.filter2D(prod_der_yy, -1, kernel)\n",
    "    sum_xy = cv2.filter2D(prod_der_xy, -1, kernel)\n",
    "    \n",
    "    trace =  sum_xx + sum_yy\n",
    "    det = (sum_xx * sum_yy)-(sum_xy**2)\n",
    "    response = det - hc_constant*(trace**2)\n",
    "    \n",
    "    result_image = image.copy()\n",
    "    result_image = cv2.cvtColor(result_image,cv2.COLOR_GRAY2RGB)\n",
    "    \n",
    "    corner_points = []\n",
    "    rows,cols = response.shape\n",
    "    for i in range(rows):\n",
    "        for j in range(cols):\n",
    "            if(response[i,j]>threshold*response.max()):\n",
    "                corner_points.append([i,j,response[i,j]])\n",
    "                result_image.itemset((i,j,0),255)\n",
    "                result_image.itemset((i,j,1),0)\n",
    "                result_image.itemset((i,j,2),0)\n",
    "\n",
    "    return result_image,corner_points"
   ]
  },
  {
   "cell_type": "code",
   "execution_count": 51,
   "metadata": {},
   "outputs": [],
   "source": [
    "def projection_transform_matrix(A,B):\n",
    "    C = np.zeros((8,9))\n",
    "    ones = np.ones(3)\n",
    "    \n",
    "    P = A[0:3]    \n",
    "    P = np.c_[P,ones]\n",
    "    \n",
    "    Q = A[3]\n",
    "    Q = np.append(Q,1)\n",
    "    temp1 = np.linalg.lstsq(P, Q)[0]\n",
    "    temp1= np.repeat(temp1,3).reshape(3,3).T    \n",
    "    scaled_P = np.multiply(P,temp1)\n",
    "    \n",
    "    R = B[0:3]\n",
    "    R = np.c_[R,ones]\n",
    "    \n",
    "    S = B[3]\n",
    "    S = np.append(S,1)\n",
    "    temp2 = np.linalg.lstsq(R, S)[0]\n",
    "    temp2 = np.repeat(temp2,3).reshape(3,3).T\n",
    "    scaled_Q = np.multiply(Q,temp2)\n",
    "    \n",
    "    scaled_P_inv = np.linalg.inv(scaled_P)\n",
    "    H = np.dot(scaled_P_inv,scaled_Q)\n",
    "    return H"
   ]
  },
  {
   "cell_type": "code",
   "execution_count": 12,
   "metadata": {},
   "outputs": [],
   "source": [
    "cpoints1 = np.array([[187, 285],[238, 475],[647, 269],[566, 523]])\n",
    "A = cpoints1[0:3]"
   ]
  },
  {
   "cell_type": "code",
   "execution_count": 4,
   "metadata": {},
   "outputs": [
    {
     "data": {
      "text/plain": [
       "array([[187, 285],\n",
       "       [238, 475],\n",
       "       [647, 269]])"
      ]
     },
     "execution_count": 4,
     "metadata": {},
     "output_type": "execute_result"
    }
   ],
   "source": [
    "A"
   ]
  },
  {
   "cell_type": "code",
   "execution_count": 10,
   "metadata": {},
   "outputs": [],
   "source": [
    "ones = np.ones(A.shape[0])\n",
    "A = np.c_[A,ones]"
   ]
  },
  {
   "cell_type": "code",
   "execution_count": 11,
   "metadata": {},
   "outputs": [
    {
     "data": {
      "text/plain": [
       "array([[ 187.,  285.,    1.],\n",
       "       [ 238.,  475.,    1.],\n",
       "       [ 647.,  269.,    1.]])"
      ]
     },
     "execution_count": 11,
     "metadata": {},
     "output_type": "execute_result"
    }
   ],
   "source": [
    "A"
   ]
  },
  {
   "cell_type": "code",
   "execution_count": 14,
   "metadata": {},
   "outputs": [],
   "source": [
    "Q = cpoints1[3]"
   ]
  },
  {
   "cell_type": "code",
   "execution_count": 16,
   "metadata": {},
   "outputs": [],
   "source": [
    "Q\n",
    "Q = np.append(Q,1)"
   ]
  },
  {
   "cell_type": "code",
   "execution_count": 17,
   "metadata": {},
   "outputs": [
    {
     "data": {
      "text/plain": [
       "array([566, 523,   1])"
      ]
     },
     "execution_count": 17,
     "metadata": {},
     "output_type": "execute_result"
    }
   ],
   "source": [
    "Q"
   ]
  },
  {
   "cell_type": "code",
   "execution_count": 39,
   "metadata": {},
   "outputs": [
    {
     "ename": "LinAlgError",
     "evalue": "Incompatible dimensions",
     "output_type": "error",
     "traceback": [
      "\u001b[0;31m---------------------------------------------------------------------------\u001b[0m",
      "\u001b[0;31mLinAlgError\u001b[0m                               Traceback (most recent call last)",
      "\u001b[0;32m<ipython-input-39-980813282d0b>\u001b[0m in \u001b[0;36m<module>\u001b[0;34m()\u001b[0m\n\u001b[1;32m      5\u001b[0m \u001b[0mQ\u001b[0m \u001b[0;34m=\u001b[0m \u001b[0mA\u001b[0m\u001b[0;34m[\u001b[0m\u001b[0;36m3\u001b[0m\u001b[0;34m]\u001b[0m\u001b[0;34m\u001b[0m\u001b[0m\n\u001b[1;32m      6\u001b[0m \u001b[0mQ\u001b[0m \u001b[0;34m=\u001b[0m \u001b[0mnp\u001b[0m\u001b[0;34m.\u001b[0m\u001b[0mappend\u001b[0m\u001b[0;34m(\u001b[0m\u001b[0mQ\u001b[0m\u001b[0;34m,\u001b[0m\u001b[0;36m1\u001b[0m\u001b[0;34m)\u001b[0m\u001b[0;34m\u001b[0m\u001b[0m\n\u001b[0;32m----> 7\u001b[0;31m \u001b[0mx\u001b[0m \u001b[0;34m=\u001b[0m \u001b[0mnp\u001b[0m\u001b[0;34m.\u001b[0m\u001b[0mlinalg\u001b[0m\u001b[0;34m.\u001b[0m\u001b[0mlstsq\u001b[0m\u001b[0;34m(\u001b[0m\u001b[0mP\u001b[0m\u001b[0;34m,\u001b[0m \u001b[0mQ\u001b[0m\u001b[0;34m)\u001b[0m\u001b[0;34m[\u001b[0m\u001b[0;36m0\u001b[0m\u001b[0;34m]\u001b[0m\u001b[0;34m\u001b[0m\u001b[0m\n\u001b[0m",
      "\u001b[0;32m/usr/local/lib/python3.4/dist-packages/numpy/linalg/linalg.py\u001b[0m in \u001b[0;36mlstsq\u001b[0;34m(a, b, rcond)\u001b[0m\n\u001b[1;32m   1908\u001b[0m     \u001b[0mldb\u001b[0m \u001b[0;34m=\u001b[0m \u001b[0mmax\u001b[0m\u001b[0;34m(\u001b[0m\u001b[0mn\u001b[0m\u001b[0;34m,\u001b[0m \u001b[0mm\u001b[0m\u001b[0;34m)\u001b[0m\u001b[0;34m\u001b[0m\u001b[0m\n\u001b[1;32m   1909\u001b[0m     \u001b[0;32mif\u001b[0m \u001b[0mm\u001b[0m \u001b[0;34m!=\u001b[0m \u001b[0mb\u001b[0m\u001b[0;34m.\u001b[0m\u001b[0mshape\u001b[0m\u001b[0;34m[\u001b[0m\u001b[0;36m0\u001b[0m\u001b[0;34m]\u001b[0m\u001b[0;34m:\u001b[0m\u001b[0;34m\u001b[0m\u001b[0m\n\u001b[0;32m-> 1910\u001b[0;31m         \u001b[0;32mraise\u001b[0m \u001b[0mLinAlgError\u001b[0m\u001b[0;34m(\u001b[0m\u001b[0;34m'Incompatible dimensions'\u001b[0m\u001b[0;34m)\u001b[0m\u001b[0;34m\u001b[0m\u001b[0m\n\u001b[0m\u001b[1;32m   1911\u001b[0m     \u001b[0mt\u001b[0m\u001b[0;34m,\u001b[0m \u001b[0mresult_t\u001b[0m \u001b[0;34m=\u001b[0m \u001b[0m_commonType\u001b[0m\u001b[0;34m(\u001b[0m\u001b[0ma\u001b[0m\u001b[0;34m,\u001b[0m \u001b[0mb\u001b[0m\u001b[0;34m)\u001b[0m\u001b[0;34m\u001b[0m\u001b[0m\n\u001b[1;32m   1912\u001b[0m     \u001b[0mresult_real_t\u001b[0m \u001b[0;34m=\u001b[0m \u001b[0m_realType\u001b[0m\u001b[0;34m(\u001b[0m\u001b[0mresult_t\u001b[0m\u001b[0;34m)\u001b[0m\u001b[0;34m\u001b[0m\u001b[0m\n",
      "\u001b[0;31mLinAlgError\u001b[0m: Incompatible dimensions"
     ]
    }
   ],
   "source": [
    "A = cpoints1\n",
    "ones = np.ones(3)\n",
    "P = A[0:3]    \n",
    "P = np.c_[P,ones]    \n",
    "Q = A[3]\n",
    "Q = np.append(Q,1)\n",
    "x = np.linalg.lstsq(P, Q)[0]"
   ]
  },
  {
   "cell_type": "code",
   "execution_count": 37,
   "metadata": {},
   "outputs": [
    {
     "data": {
      "text/plain": [
       "array([[ 187.,  285.,    1.,    1.],\n",
       "       [ 238.,  475.,    1.,    1.],\n",
       "       [ 647.,  269.,    1.,    1.]])"
      ]
     },
     "execution_count": 37,
     "metadata": {},
     "output_type": "execute_result"
    }
   ],
   "source": [
    "P"
   ]
  },
  {
   "cell_type": "code",
   "execution_count": 38,
   "metadata": {},
   "outputs": [
    {
     "data": {
      "text/plain": [
       "array([566, 523,   1,   1])"
      ]
     },
     "execution_count": 38,
     "metadata": {},
     "output_type": "execute_result"
    }
   ],
   "source": [
    "Q"
   ]
  },
  {
   "cell_type": "code",
   "execution_count": 19,
   "metadata": {},
   "outputs": [
    {
     "data": {
      "text/plain": [
       "array([ -1.22469847e+00,   1.02419062e-01,   7.65829181e+02])"
      ]
     },
     "execution_count": 19,
     "metadata": {},
     "output_type": "execute_result"
    }
   ],
   "source": [
    "x"
   ]
  },
  {
   "cell_type": "code",
   "execution_count": 30,
   "metadata": {},
   "outputs": [],
   "source": [
    "y = np.repeat(x,3)"
   ]
  },
  {
   "cell_type": "code",
   "execution_count": 31,
   "metadata": {},
   "outputs": [
    {
     "data": {
      "text/plain": [
       "array([ -1.22469847e+00,  -1.22469847e+00,  -1.22469847e+00,\n",
       "         1.02419062e-01,   1.02419062e-01,   1.02419062e-01,\n",
       "         7.65829181e+02,   7.65829181e+02,   7.65829181e+02])"
      ]
     },
     "execution_count": 31,
     "metadata": {},
     "output_type": "execute_result"
    }
   ],
   "source": [
    "y"
   ]
  },
  {
   "cell_type": "code",
   "execution_count": 32,
   "metadata": {},
   "outputs": [
    {
     "data": {
      "text/plain": [
       "array([[ -1.22469847e+00,   1.02419062e-01,   7.65829181e+02],\n",
       "       [ -1.22469847e+00,   1.02419062e-01,   7.65829181e+02],\n",
       "       [ -1.22469847e+00,   1.02419062e-01,   7.65829181e+02]])"
      ]
     },
     "execution_count": 32,
     "metadata": {},
     "output_type": "execute_result"
    }
   ],
   "source": [
    "y.reshape(3,3).T\n"
   ]
  },
  {
   "cell_type": "code",
   "execution_count": 52,
   "metadata": {},
   "outputs": [],
   "source": [
    "cpoints1 = np.array([[187, 285],[238, 475],[647, 269],[566, 523]])\n",
    "cpoints2 = np.array([[161,109],[239, 300],[639, 55],[560, 317]])"
   ]
  },
  {
   "cell_type": "code",
   "execution_count": 53,
   "metadata": {},
   "outputs": [],
   "source": [
    "H = projection_transform_matrix(cpoints1,cpoints2)"
   ]
  },
  {
   "cell_type": "code",
   "execution_count": 54,
   "metadata": {},
   "outputs": [
    {
     "data": {
      "text/plain": [
       "array([[ -1.21476955e-16,   5.59180434e-17,   3.05384355e-17],\n",
       "       [  1.45061550e-15,  -1.50081235e-15,   6.93382775e-16],\n",
       "       [ -9.27731405e-01,  -5.18764588e-01,   1.10324618e+00]])"
      ]
     },
     "execution_count": 54,
     "metadata": {},
     "output_type": "execute_result"
    }
   ],
   "source": [
    "H"
   ]
  },
  {
   "cell_type": "code",
   "execution_count": null,
   "metadata": {},
   "outputs": [],
   "source": [
    "all_corner_points1 = np.array([[120,249],[140,267],[165,202],[165,328],[310,195],[255,325],[337,319],[426,327],[522,322],[625,324],[568,433],[565,499],[565,520],[541,520],[451,516],[390,511],[154,513],[114,340],[462,394],[186,405]])"
   ]
  },
  {
   "cell_type": "code",
   "execution_count": null,
   "metadata": {},
   "outputs": [],
   "source": [
    "all_corner_points1 = np.array([[85,75],[105,97],[124,18],[145,153],[171,138],[235,145],[321,138],[412,132],[508,124],[616,115],[561,235],[559,295],[558,315],[534,315],[447,318],[390,321],[163,337],[94,169],[391,274],[177,237]])"
   ]
  }
 ],
 "metadata": {
  "kernelspec": {
   "display_name": "Python 3",
   "language": "python",
   "name": "python3"
  },
  "language_info": {
   "codemirror_mode": {
    "name": "ipython",
    "version": 3
   },
   "file_extension": ".py",
   "mimetype": "text/x-python",
   "name": "python",
   "nbconvert_exporter": "python",
   "pygments_lexer": "ipython3",
   "version": "3.4.3"
  }
 },
 "nbformat": 4,
 "nbformat_minor": 2
}
